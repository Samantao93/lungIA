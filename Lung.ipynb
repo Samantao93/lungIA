{
 "cells": [
  {
   "cell_type": "code",
   "execution_count": 2,
   "metadata": {
    "id": "y1Am7V-h3xe5"
   },
   "outputs": [],
   "source": [
    "import os\n",
    "import openslide\n",
    "import torch\n",
    "import matplotlib.pyplot as plt\n",
    "from torchvision import transforms\n",
    "from PIL import Image\n",
    "import torch\n",
    "import torch.nn as nn\n",
    "import numpy as np\n",
    "import cv2\n",
    "import staintools"
   ]
  },
  {
   "cell_type": "code",
   "execution_count": 3,
   "metadata": {
    "id": "go1TGX9633dN"
   },
   "outputs": [],
   "source": [
    "carpeta_base = './GDCdata/'"
   ]
  },
  {
   "cell_type": "markdown",
   "metadata": {
    "id": "zmKGwcdYNzLj"
   },
   "source": [
    "# StainGAN"
   ]
  },
  {
   "cell_type": "code",
   "execution_count": 4,
   "metadata": {
    "colab": {
     "base_uri": "https://localhost:8080/"
    },
    "id": "uaS9H8WEcHyG",
    "outputId": "15d907d3-3b7b-49bc-e6ea-26c6db688d5d"
   },
   "outputs": [],
   "source": [
    "# Comprobamos si existe la carpeta Normalizadas, sino crearla\n",
    "carpeta_normalizadas = os.path.join(carpeta_base, \"Normalizadas\")\n",
    "os.makedirs(carpeta_normalizadas, exist_ok=True)\n",
    "\n",
    "# Leer todas las imágenes .svs y guardarlas en un array\n",
    "carpetas = []\n",
    "archivos_final = []\n",
    "imagenes_svs = []\n",
    "imagenes_np = []\n",
    "for carpeta, subcarpetas, archivos in os.walk(carpeta_base):\n",
    "    for archivo in archivos:\n",
    "        archivo_save = archivo.replace('.','-',1).split('.')[0]\n",
    "        archivos_final.append(archivo_save)\n",
    "        if archivo.endswith('.svs'):\n",
    "            ruta_imagen = os.path.join(carpeta, archivo)\n",
    "            imagenes_svs.append(ruta_imagen)\n",
    "            carpetas.append(carpeta)\n",
    "            slide = openslide.OpenSlide(ruta_imagen)\n",
    "            nivel = 1  # Cambia esto si necesitas otro nivel de detalle\n",
    "            dimensiones = slide.level_dimensions[nivel]\n",
    "            imagen_np = np.array(slide.read_region((0, 0), level=nivel, size=dimensiones))[:, :, :3]\n",
    "\n",
    "            # Guardar la imagen en la lista\n",
    "            imagenes_np.append(imagen_np)\n"
   ]
  },
  {
   "cell_type": "code",
   "execution_count": 30,
   "metadata": {},
   "outputs": [
    {
     "name": "stdout",
     "output_type": "stream",
     "text": [
      "Dimensiones de la imagen (nivel 0): 81871 x 23348\n",
      "Centro de la imagen: (40935, 11674)\n",
      "Color del centro (RGB): [243 243 243]\n"
     ]
    }
   ],
   "source": [
    "# Obtener el color del centro de la imágen 3\n",
    "slide = openslide.OpenSlide('./GDCdata/TCGA-LUSC/Biospecimen/Slide_Image/0c66d649-79ae-4677-893d-e66fbcae5b04/TCGA-NK-A5CT-01A-03-TSC.A38F3C8C-403F-4D23-A16D-43FD6764E764.svs')\n",
    "w,h = slide.level_dimensions[0]\n",
    "print(f\"Dimensiones de la imagen (nivel 0): {w} x {h}\")\n",
    "\n",
    "x_centro = w // 2\n",
    "y_centro = h // 2\n",
    "print(f\"Centro de la imagen: ({x_centro}, {y_centro})\")\n",
    "\n",
    "region = slide.read_region((x_centro, y_centro), 0, (1, 1)).convert(\"RGB\")\n",
    "\n",
    "# Convertir a array NumPy y obtener el color RGB\n",
    "color_centro = np.array(region)[0, 0, :3]  # Solo tomamos los primeros 3 valores (RGB)\n",
    "print(f\"Color del centro (RGB): {color_centro}\")"
   ]
  },
  {
   "cell_type": "markdown",
   "metadata": {},
   "source": [
    "# Máxima altura"
   ]
  },
  {
   "cell_type": "code",
   "execution_count": null,
   "metadata": {},
   "outputs": [],
   "source": [
    "# Redimensionar las imágenes\n",
    "## Encontrar la máxima altura y anchura\n",
    "max_alto = max(img.shape[0] for img in imagenes_np)\n",
    "max_ancho = max(img.shape[1] for img in imagenes_np)\n",
    "\n",
    "## Redimensionar todas las imágenes al tamaño máximo\n",
    "# imagenes_np_resized = [cv2.resize(img, (max_ancho, max_alto)) for img in imagenes_np]\n",
    "\n",
    "# Redimensionar las imágenes rellenando con color blanco\n",
    "imagenes_np_padded = []\n",
    "color_fondo = (243, 243, 243) \n",
    "\n",
    "for img in imagenes_np:\n",
    "    alto, ancho = img.shape[:2]\n",
    "\n",
    "    # Crear una imagen en blanco (3 canales para color)\n",
    "    # padded_img = np.ones((max_alto, max_ancho, 3), dtype=np.uint8) * 255\n",
    "\n",
    "    # Crear una imagen con el color de fondo\n",
    "    padded_img = np.full((max_alto, max_ancho, 3), color_fondo, dtype=np.uint8)\n",
    "\n",
    "    # Calcular el desplazamiento para centrar la imagen\n",
    "    y_offset = (max_alto - alto) // 2\n",
    "    x_offset = (max_ancho - ancho) // 2\n",
    "\n",
    "    # Insertar la imagen en la imagen en blanco\n",
    "    padded_img[y_offset:y_offset + alto, x_offset:x_offset + ancho] = img\n",
    "\n",
    "    imagenes_np_padded.append(padded_img)"
   ]
  },
  {
   "cell_type": "code",
   "execution_count": null,
   "metadata": {
    "id": "AzCkEry_PgVC"
   },
   "outputs": [],
   "source": [
    "# Calcular el promedio cromático global\n",
    "promedio_global = np.zeros_like(imagenes_np_padded[0], dtype=np.float32)\n",
    "for imagen in imagenes_np_padded:\n",
    "    promedio_global += imagen / len(imagenes_np_padded)\n",
    "\n",
    "promedio_global = np.uint8(promedio_global)  # Convertir a uint8\n",
    "\n",
    "# Crear y ajustar el normalizador con la referencia global\n",
    "normalizador = staintools.ReinhardColorNormalizer()\n",
    "# normalizador = staintools.ReinhardNormalizer()\n",
    "normalizador.fit(promedio_global)"
   ]
  },
  {
   "cell_type": "code",
   "execution_count": 33,
   "metadata": {
    "id": "qBkT4RBrOo8q"
   },
   "outputs": [
    {
     "name": "stdout",
     "output_type": "stream",
     "text": [
      "Imagen normalizada guardada en: ./GDCdata/Normalizadas/TCGA-55-8091-01Z-00-DX1.0996c58a-6e93-4092-8cb8-014d548fe60c_normalizada.png\n",
      "Imagen normalizada guardada en: ./GDCdata/Normalizadas/TCGA-J2-A4AE-01Z-00-DX1.42C5DE4A-7787-4E59-8969-D12503262C96_normalizada.png\n",
      "Imagen normalizada guardada en: ./GDCdata/Normalizadas/TCGA-NK-A5CT-01A-03-TSC.A38F3C8C-403F-4D23-A16D-43FD6764E764_normalizada.png\n",
      "Imagen normalizada guardada en: ./GDCdata/Normalizadas/TCGA-92-8064-01Z-00-DX1.72c1a8db-146c-4408-8d31-43baba769fdf_normalizada.png\n"
     ]
    }
   ],
   "source": [
    "imagenes_normalizadas = []\n",
    "ruta_imagenes_normalizadas = []\n",
    "for i, imagen in enumerate(imagenes_np_padded):\n",
    "    imagen_normalizada = normalizador.transform(imagen)\n",
    "    imagenes_normalizadas.append(imagen_normalizada)\n",
    "\n",
    "    # Obtener nombre original sin extensión\n",
    "    nombre_original = os.path.splitext(os.path.basename(imagenes_svs[i]))[0]\n",
    "    nombre_archivo_normalizado = f\"{nombre_original}_normalizada.png\"\n",
    "\n",
    "    # Definir ruta de guardado\n",
    "    ruta_guardado = os.path.join(carpeta_normalizadas, nombre_archivo_normalizado)\n",
    "    ruta_imagenes_normalizadas.append(ruta_guardado)\n",
    "\n",
    "    # Guardar imagen normalizada\n",
    "    imagen_pil = Image.fromarray(imagen_normalizada)\n",
    "    imagen_pil.save(ruta_guardado)\n",
    "\n",
    "    print(f\"Imagen normalizada guardada en: {ruta_guardado}\")"
   ]
  },
  {
   "cell_type": "code",
   "execution_count": null,
   "metadata": {
    "colab": {
     "base_uri": "https://localhost:8080/",
     "height": 297
    },
    "id": "EQAGuSxo7qdf",
    "outputId": "c5841312-27b1-4b37-c865-fce513018f46"
   },
   "outputs": [],
   "source": [
    "thumbnail_size = (300, 300)\n",
    "plt.figure(figsize=(15, 10))\n",
    "for i, ruta in enumerate(imagenes_svs):\n",
    "    slide = openslide.OpenSlide(ruta)\n",
    "    thumbnail = slide.get_thumbnail(thumbnail_size)  # Crear miniatura\n",
    "\n",
    "    imagen_np = np.array(thumbnail)  # Convertir a NumPy array\n",
    "\n",
    "    # Agregar subplot para cada imagen\n",
    "    plt.subplot(1, len(imagenes_svs), i + 1)\n",
    "    plt.imshow(imagen_np)\n",
    "    plt.axis(\"off\")  # Ocultar ejes\n",
    "    plt.title(f\"Imagen {i+1}\")  # Título\n",
    "\n",
    "plt.tight_layout()\n",
    "plt.show()"
   ]
  },
  {
   "cell_type": "code",
   "execution_count": null,
   "metadata": {
    "colab": {
     "base_uri": "https://localhost:8080/",
     "height": 297
    },
    "id": "EQAGuSxo7qdf",
    "outputId": "c5841312-27b1-4b37-c865-fce513018f46"
   },
   "outputs": [],
   "source": [
    "plt.figure(figsize=(15, 10))\n",
    "Image.MAX_IMAGE_PIXELS = None # Aumentamos el límite de píxeles permitidos\n",
    "\n",
    "# Iterar sobre las imágenes PNG\n",
    "for i, ruta in enumerate(ruta_imagenes_normalizadas):\n",
    "    if not os.path.exists(ruta):\n",
    "        print(f\"Archivo no encontrado: {ruta}\")\n",
    "        continue\n",
    "    \n",
    "    imagen = Image.open(ruta)  # Abrir imagen con PIL\n",
    "    imagen_np = np.array(imagen)  # Convertir a NumPy array\n",
    "\n",
    "    # Agregar subplot para visualizar\n",
    "    plt.subplot(1, len(ruta_imagenes_normalizadas), i + 1)\n",
    "    plt.imshow(imagen_np)\n",
    "    plt.axis(\"off\")\n",
    "    plt.title(f\"Imagen {i+1}\")\n",
    "\n",
    "# Mostrar imágenes\n",
    "plt.tight_layout()\n",
    "plt.show()"
   ]
  }
 ],
 "metadata": {
  "accelerator": "GPU",
  "colab": {
   "gpuType": "T4",
   "provenance": []
  },
  "kernelspec": {
   "display_name": "Python 3 (ipykernel)",
   "language": "python",
   "name": "python3"
  },
  "language_info": {
   "codemirror_mode": {
    "name": "ipython",
    "version": 3
   },
   "file_extension": ".py",
   "mimetype": "text/x-python",
   "name": "python",
   "nbconvert_exporter": "python",
   "pygments_lexer": "ipython3",
   "version": "3.12.8"
  }
 },
 "nbformat": 4,
 "nbformat_minor": 4
}
